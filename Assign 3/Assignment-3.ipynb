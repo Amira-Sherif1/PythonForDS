{
 "cells": [
  {
   "cell_type": "markdown",
   "metadata": {},
   "source": [
    "## Python Task 3"
   ]
  },
  {
   "cell_type": "markdown",
   "metadata": {},
   "source": [
    "### Question: Count Vowels in a String\n",
    "\n",
    "**Description:** Write a function named count_vowels that takes a string as an argument and returns the count of vowels (a, e, i, o, u) in the string. \n",
    "\n",
    "The function should be case-insensitive, counting both uppercase and lowercase vowels.\n"
   ]
  },
  {
   "cell_type": "code",
   "execution_count": null,
   "metadata": {},
   "outputs": [],
   "source": [
    "'''\n",
    "# Example Input:\n",
    "text = \"Hello World\"\n",
    "# Expected Output:\n",
    "3\n",
    "'''\n"
   ]
  },
  {
   "cell_type": "code",
   "execution_count": 3,
   "metadata": {},
   "outputs": [
    {
     "name": "stdout",
     "output_type": "stream",
     "text": [
      "number of vowels in Amira = 3\n"
     ]
    }
   ],
   "source": [
    "def count_vowels(text):\n",
    "    count=0\n",
    "    text=text.lower()\n",
    "    for i in text:\n",
    "        if(i=='a' or i== 'e' or i=='i' or i=='o' or i=='u'):\n",
    "            count+=1\n",
    "    return count\n",
    "\n",
    "text='Amira'\n",
    "\n",
    "x=count_vowels(text)\n",
    "print(f'number of vowels in {text} = {x}')\n",
    "\n",
    "\n"
   ]
  },
  {
   "cell_type": "markdown",
   "metadata": {},
   "source": [
    "### Question: Find the Maximum Value in a List Using a Function\n",
    "Description: Write a function named find_max that takes a list of integers as an argument and returns the maximum value in the list. \n",
    "\n",
    "Do not use Python’s built-in max() function. The function should handle cases where the list is empty by returning None.\n"
   ]
  },
  {
   "cell_type": "code",
   "execution_count": null,
   "metadata": {},
   "outputs": [],
   "source": [
    "'''\n",
    "# Example Input:\n",
    "numbers = [3, 5, 2, 8, 1]\n",
    "# Expected Output:\n",
    "8\n",
    "'''"
   ]
  },
  {
   "cell_type": "code",
   "execution_count": null,
   "metadata": {},
   "outputs": [
    {
     "name": "stdout",
     "output_type": "stream",
     "text": [
      "0\n"
     ]
    }
   ],
   "source": [
    "def find_max(list):\n",
    "    if len(list)==0:\n",
    "        return 0\n",
    "    else:\n",
    "        max_val=list[0]\n",
    "        for i in list:\n",
    "            if(i>max_val):\n",
    "                max_val=i\n",
    "        return max_val\n",
    "\n",
    "numbers = [3, 5, 2, 8, 1]\n",
    "x=find_max(numbers)\n",
    "print(x)\n"
   ]
  }
 ],
 "metadata": {
  "kernelspec": {
   "display_name": "Python 3",
   "language": "python",
   "name": "python3"
  },
  "language_info": {
   "codemirror_mode": {
    "name": "ipython",
    "version": 3
   },
   "file_extension": ".py",
   "mimetype": "text/x-python",
   "name": "python",
   "nbconvert_exporter": "python",
   "pygments_lexer": "ipython3",
   "version": "3.13.0"
  }
 },
 "nbformat": 4,
 "nbformat_minor": 2
}
