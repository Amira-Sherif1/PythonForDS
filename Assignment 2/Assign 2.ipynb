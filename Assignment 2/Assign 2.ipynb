{
 "cells": [
  {
   "cell_type": "markdown",
   "metadata": {},
   "source": [
    "# Create a list of 10 integers ranging from 1 to 20. Then, do the following: \n",
    "# Extract and print the first 5 elements of the list. \n",
    " Extract and print the last 3 elements using negative indexing. \n",
    " Extract and print all elements from index 3 to index 7. "
   ]
  },
  {
   "cell_type": "code",
   "execution_count": 4,
   "metadata": {},
   "outputs": [
    {
     "name": "stdout",
     "output_type": "stream",
     "text": [
      "[1, 3, 5, 7, 9]\n",
      "[14, 16, 20]\n",
      "[7, 9, 11, 12, 14]\n"
     ]
    }
   ],
   "source": [
    "\n",
    "\n",
    "list=[1,3,5,7,9,11,12,14,16,20]\n",
    "\n",
    "print(list[0:5])\n",
    "\n",
    "print(list[-3:])\n",
    "\n",
    "print(list[3:8])\n",
    "\n"
   ]
  },
  {
   "cell_type": "markdown",
   "metadata": {},
   "source": [
    "Write a Python program that: \n",
    "o Creates a list of 5 different fruits. \n",
    "o Add two more fruits to the list. \n",
    "o Remove the last fruit in the list. \n",
    "o Print the updated list. "
   ]
  },
  {
   "cell_type": "code",
   "execution_count": 5,
   "metadata": {},
   "outputs": [
    {
     "name": "stdout",
     "output_type": "stream",
     "text": [
      "['apple', 'banana', 'mango', 'orange', 'grapes', 'pineapple']\n"
     ]
    }
   ],
   "source": [
    "list=['apple','banana','mango','orange','grapes']\n",
    "list.append('pineapple')\n",
    "list.append('cherry')\n",
    "list.pop()\n",
    "print(list)"
   ]
  },
  {
   "cell_type": "markdown",
   "metadata": {},
   "source": [
    "Create a tuple that contains 5 different cities. \n",
    "o Access and print the second city in the tuple. \n",
    "o Try to change the value of the second city in the tuple and explain why it does \n",
    "not work."
   ]
  },
  {
   "cell_type": "code",
   "execution_count": null,
   "metadata": {},
   "outputs": [
    {
     "name": "stdout",
     "output_type": "stream",
     "text": [
      "giza\n"
     ]
    },
    {
     "ename": "TypeError",
     "evalue": "'tuple' object does not support item assignment",
     "output_type": "error",
     "traceback": [
      "\u001b[1;31m---------------------------------------------------------------------------\u001b[0m",
      "\u001b[1;31mTypeError\u001b[0m                                 Traceback (most recent call last)",
      "Cell \u001b[1;32mIn[7], line 3\u001b[0m\n\u001b[0;32m      1\u001b[0m \u001b[38;5;28mtuple\u001b[39m\u001b[38;5;241m=\u001b[39m(\u001b[38;5;124m'\u001b[39m\u001b[38;5;124mcairo\u001b[39m\u001b[38;5;124m'\u001b[39m,\u001b[38;5;124m'\u001b[39m\u001b[38;5;124mgiza\u001b[39m\u001b[38;5;124m'\u001b[39m,\u001b[38;5;124m'\u001b[39m\u001b[38;5;124mmonofya\u001b[39m\u001b[38;5;124m'\u001b[39m,\u001b[38;5;124m'\u001b[39m\u001b[38;5;124maswan\u001b[39m\u001b[38;5;124m'\u001b[39m,\u001b[38;5;124m'\u001b[39m\u001b[38;5;124mmenia\u001b[39m\u001b[38;5;124m'\u001b[39m)\n\u001b[0;32m      2\u001b[0m \u001b[38;5;28mprint\u001b[39m(\u001b[38;5;28mtuple\u001b[39m[\u001b[38;5;241m1\u001b[39m])\n\u001b[1;32m----> 3\u001b[0m \u001b[38;5;28;43mtuple\u001b[39;49m\u001b[43m[\u001b[49m\u001b[38;5;241;43m1\u001b[39;49m\u001b[43m]\u001b[49m\u001b[38;5;241m=\u001b[39m\u001b[38;5;124m'\u001b[39m\u001b[38;5;124malex\u001b[39m\u001b[38;5;124m'\u001b[39m\n",
      "\u001b[1;31mTypeError\u001b[0m: 'tuple' object does not support item assignment"
     ]
    }
   ],
   "source": [
    "tuple=('cairo','giza','monofya','aswan','menia')\n",
    "print(tuple[1])\n",
    "tuple[1]='alex' # there is an error because tuple dpes not support changes in its elements"
   ]
  },
  {
   "cell_type": "markdown",
   "metadata": {},
   "source": [
    "Write a Python program that creates a dictionary with the following keys and \n",
    "values: \n",
    "o 'name': 'John', 'age': 30, 'city': 'New York'. Then: \n",
    "o Print the value of the 'age' key. \n",
    "o Add a new key-value pair 'job': 'Engineer' to the dictionary. \n",
    "o Remove the 'city' key and print the updated dictionary. "
   ]
  },
  {
   "cell_type": "code",
   "execution_count": 12,
   "metadata": {},
   "outputs": [
    {
     "name": "stdout",
     "output_type": "stream",
     "text": [
      "30\n",
      "{'name': 'John', 'age': 30, 'job': 'Engineer'}\n"
     ]
    }
   ],
   "source": [
    "dic={'name': 'John', 'age': 30, 'city': 'New York'}\n",
    "print(dic['age'])\n",
    "dic['job']='Engineer'\n",
    "dic.pop('city')\n",
    "print(dic)\n"
   ]
  },
  {
   "cell_type": "markdown",
   "metadata": {},
   "source": [
    "Write a Python program that: \n",
    "o Creates a dictionary to store the names and ages of 3 people. \n",
    "o Print each person's name and their corresponding age using a loop."
   ]
  },
  {
   "cell_type": "code",
   "execution_count": 14,
   "metadata": {},
   "outputs": [
    {
     "name": "stdout",
     "output_type": "stream",
     "text": [
      "Amira\n",
      "19\n",
      "Aseel\n",
      "20\n",
      "hager\n",
      "17\n"
     ]
    }
   ],
   "source": [
    "dic={'Amira':19,'Aseel':20,'hager':17}\n",
    "for i in dic:\n",
    "    print(i)\n",
    "    print (dic[i])"
   ]
  },
  {
   "cell_type": "markdown",
   "metadata": {},
   "source": [
    " Write a Python program that takes the user's age as input and prints: \n",
    "o 'Adult' if the age is 18 or older. \n",
    "o 'Minor' if the age is less than 18. "
   ]
  },
  {
   "cell_type": "code",
   "execution_count": 17,
   "metadata": {},
   "outputs": [
    {
     "name": "stdout",
     "output_type": "stream",
     "text": [
      "Adult\n"
     ]
    }
   ],
   "source": [
    "age=int(input(\"Enter your age : \"))\n",
    "if age >= 18:\n",
    "    print('Adult')\n",
    "else:\n",
    "    print('Minor')\n"
   ]
  },
  {
   "cell_type": "markdown",
   "metadata": {},
   "source": [
    "Write a Python program that checks if a number entered by the user is: \n",
    "o 'Even' if it is divisible by 2. \n",
    "o 'Odd' if it is not divisible by 2. "
   ]
  },
  {
   "cell_type": "code",
   "execution_count": 20,
   "metadata": {},
   "outputs": [
    {
     "name": "stdout",
     "output_type": "stream",
     "text": [
      "3 is odd\n"
     ]
    }
   ],
   "source": [
    "num=int(input(\"Enter a number : \"))\n",
    "if(num%2==0):\n",
    "    print(f'{num} is even')\n",
    "elif(num%2!=0):\n",
    "    print(f'{num} is odd')"
   ]
  },
  {
   "cell_type": "markdown",
   "metadata": {},
   "source": [
    "Write a Python program that: \n",
    "o Takes a score from the user and prints the grade based on the following criteria: \n",
    "▪ 90 and above: 'A' \n",
    "▪ 70-89: 'B' \n",
    "▪ 50-69: 'C' \n",
    "▪ Below 50: 'F' "
   ]
  },
  {
   "cell_type": "code",
   "execution_count": 24,
   "metadata": {},
   "outputs": [
    {
     "name": "stdout",
     "output_type": "stream",
     "text": [
      "C\n"
     ]
    }
   ],
   "source": [
    "grade=int(input(\"Enter your grade :\"))\n",
    "if grade>=90:\n",
    "    print('A')\n",
    "elif grade>=70:\n",
    "    print('B')\n",
    "elif grade>=50:\n",
    "    print('C')\n",
    "elif grade<50:\n",
    "    print('F')"
   ]
  },
  {
   "cell_type": "markdown",
   "metadata": {},
   "source": [
    "Write a Python program that uses a for loop to print all even numbers \n",
    "between 1 and 20. "
   ]
  },
  {
   "cell_type": "code",
   "execution_count": 25,
   "metadata": {},
   "outputs": [
    {
     "name": "stdout",
     "output_type": "stream",
     "text": [
      "2\n",
      "4\n",
      "6\n",
      "8\n",
      "10\n",
      "12\n",
      "14\n",
      "16\n",
      "18\n",
      "20\n"
     ]
    }
   ],
   "source": [
    "for i in range(2,21,2):\n",
    "    print(i)"
   ]
  },
  {
   "cell_type": "markdown",
   "metadata": {},
   "source": [
    "Write a Python program that uses a while loop to print the numbers from 10 \n",
    "to 1, in descending order."
   ]
  },
  {
   "cell_type": "code",
   "execution_count": 26,
   "metadata": {},
   "outputs": [
    {
     "name": "stdout",
     "output_type": "stream",
     "text": [
      "10\n",
      "9\n",
      "8\n",
      "7\n",
      "6\n",
      "5\n",
      "4\n",
      "3\n",
      "2\n",
      "1\n"
     ]
    }
   ],
   "source": [
    "num=10\n",
    "while(num>0):\n",
    "    print(num)\n",
    "    num-=1"
   ]
  },
  {
   "cell_type": "markdown",
   "metadata": {},
   "source": [
    "Write a Python program that: \n",
    "• Asks the user to input a number. \n",
    "• Then, using a for loop, calculates the sum of all numbers from 1 to the entered number \n",
    "(inclusive) and prints the result. "
   ]
  },
  {
   "cell_type": "code",
   "execution_count": 27,
   "metadata": {},
   "outputs": [
    {
     "name": "stdout",
     "output_type": "stream",
     "text": [
      "sum of numbers from 1 to 3 = 6\n"
     ]
    }
   ],
   "source": [
    "num=int(input(\"Enter number :\"))\n",
    "sum=0\n",
    "for i in range (1,num+1,1):\n",
    "    sum+=i\n",
    "print(f'sum of numbers from 1 to {num} = {sum}')\n"
   ]
  },
  {
   "cell_type": "markdown",
   "metadata": {},
   "source": [
    "Write a Python program that asks the user for their name and age, then prints \n",
    "a message saying: \"Hello, [name]! You are [age] years old.\""
   ]
  },
  {
   "cell_type": "code",
   "execution_count": 28,
   "metadata": {},
   "outputs": [
    {
     "name": "stdout",
     "output_type": "stream",
     "text": [
      "Hello, amira! You are 19 years old.\n"
     ]
    }
   ],
   "source": [
    "name=input(\"Enter your name : \")\n",
    "age=int(input(\"Enter your age :\"))\n",
    "print(f\"Hello, {name}! You are {age} years old.\")"
   ]
  },
  {
   "cell_type": "markdown",
   "metadata": {},
   "source": [
    "Write a Python program that asks the user for their favorite color and checks \n",
    "if it is 'blue'. If it is, print \"You have great taste!\", otherwise print \"That's a \n",
    "nice color too!\" \n"
   ]
  },
  {
   "cell_type": "code",
   "execution_count": 30,
   "metadata": {},
   "outputs": [
    {
     "name": "stdout",
     "output_type": "stream",
     "text": [
      "That's a nice color too!\n"
     ]
    }
   ],
   "source": [
    "color=input('enter you favourite color : ')\n",
    "if color=='blue':\n",
    "    print(\"You have great taste!\")\n",
    "else:\n",
    "    print(\"That's a nice color too!\")"
   ]
  },
  {
   "cell_type": "markdown",
   "metadata": {},
   "source": [
    "Write a Python program that asks the user to enter a list of 5 numbers. \n",
    "Then: \n",
    "• Calculate and print the average of the numbers. \n",
    "• Print the largest and smallest numbers from the list."
   ]
  },
  {
   "cell_type": "code",
   "execution_count": null,
   "metadata": {},
   "outputs": [],
   "source": [
    "x=[]\n",
    "sum=0\n",
    "\n",
    "for i in range (0,5,1):\n",
    "    y=int(input(\"Enter value:\"))\n",
    "    sum+=y\n",
    "    x.append(y)\n",
    "print(f'average ={sum/5.0}')\n",
    "max_val= x[0]\n",
    "min_val=x[0]\n",
    "for i in x:\n",
    "    if i>max_val:\n",
    "        max_val=i\n",
    "    if i<min_val:\n",
    "        min_val=i\n",
    "print (f\"max = {max_val}\")\n",
    "print (f\"min = {min_val}\")\n"
   ]
  }
 ],
 "metadata": {
  "kernelspec": {
   "display_name": "Python 3",
   "language": "python",
   "name": "python3"
  },
  "language_info": {
   "codemirror_mode": {
    "name": "ipython",
    "version": 3
   },
   "file_extension": ".py",
   "mimetype": "text/x-python",
   "name": "python",
   "nbconvert_exporter": "python",
   "pygments_lexer": "ipython3",
   "version": "3.13.0"
  }
 },
 "nbformat": 4,
 "nbformat_minor": 2
}
