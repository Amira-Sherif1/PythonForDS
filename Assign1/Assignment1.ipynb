{
 "cells": [
  {
   "cell_type": "code",
   "execution_count": null,
   "metadata": {},
   "outputs": [],
   "source": []
  },
  {
   "cell_type": "markdown",
   "metadata": {},
   "source": [
    "Section 1: Printing Messages \n",
    "1. Write a Python program to print the following message on the screen: \n",
    "\"Hello, Python learners! Today we start our coding journey.\" \n",
    "Challenge: Print a multi-line message using triple quotes that includes your name and \n",
    "favorite programming language."
   ]
  },
  {
   "cell_type": "code",
   "execution_count": null,
   "metadata": {},
   "outputs": [],
   "source": [
    "print(\"Hello, Python learners! Today we start our coding journey.\")\n",
    "print(\"\"\"Hi, my name is Amira.\n",
    "My favorite programming language is Python.\"\"\")\n"
   ]
  },
  {
   "cell_type": "markdown",
   "metadata": {},
   "source": [
    "Section 2: Variables and Data Types \n",
    "1. Create a variable called age and assign it your age. Print a message that says, \"I am \n",
    "[age] years old.\" \n",
    "Challenge: Create three variables of different data types (integer, float, and string). Print \n",
    "each variable with a description of its data type. "
   ]
  },
  {
   "cell_type": "code",
   "execution_count": null,
   "metadata": {},
   "outputs": [],
   "source": [
    "\n",
    "age = 19\n",
    "print(f\"I am {age} years old.\")\n",
    "\n",
    "an_integer = 42\n",
    "a_float = 3.14\n",
    "a_string = \"Python\"\n",
    "print(f\"Integer: {an_integer}, Float: {a_float}, String: {a_string}\")\n"
   ]
  },
  {
   "cell_type": "markdown",
   "metadata": {},
   "source": [
    "Section 3: Working with Strings \n",
    "1. Given the string text = \"Python is amazing\", write a program to extract and print the \n",
    "word \"amazing\" from it. \n",
    "Challenge: Concatenate two strings, first_name and last_name, with a space in between, and \n",
    "print the full name in uppercase. "
   ]
  },
  {
   "cell_type": "code",
   "execution_count": null,
   "metadata": {},
   "outputs": [],
   "source": [
    "text = \"Python is amazing\"\n",
    "print(text[10:])\n",
    "\n",
    "first_name = \"John\"\n",
    "last_name = \"Doe\"\n",
    "print((first_name + \" \" + last_name).upper())\n"
   ]
  },
  {
   "cell_type": "markdown",
   "metadata": {},
   "source": [
    "Section 4: Basic Operations \n",
    "1. Write a program to calculate the area of a rectangle with a width of 5 and a height of \n",
    "10. \n",
    "Challenge: Create two numbers, a = 20 and b = 7, and print the result of each arithmetic \n",
    "operation: addition, subtraction, multiplication, division, and modulo. "
   ]
  },
  {
   "cell_type": "code",
   "execution_count": null,
   "metadata": {},
   "outputs": [],
   "source": [
    "width = 5\n",
    "height = 10\n",
    "print(f\"Area of rectangle: {width * height}\")\n",
    "\n",
    "a = 20\n",
    "b = 7\n",
    "print(f\"Addition: {a + b}, Subtraction: {a - b}, Multiplication: {a * b}\")\n",
    "print(f\"Division: {a / b}, Modulo: {a % b}\")\n"
   ]
  },
  {
   "cell_type": "markdown",
   "metadata": {},
   "source": [
    "Section 5: Lists and Tuples \n",
    "1. Create a list of five of your favorite foods. Print the entire list, then print the third \n",
    "item in the list. \n",
    "Challenge: Convert the list into a tuple, and try to change the first item in the tuple. Observe \n",
    "and explain the result."
   ]
  },
  {
   "cell_type": "code",
   "execution_count": null,
   "metadata": {},
   "outputs": [],
   "source": [
    "favorite_foods = [\"Pizza\", \"Pasta\", \"Burger\", \"Salad\", \"Ice Cream\"]\n",
    "print(favorite_foods)\n",
    "print(favorite_foods[2])\n",
    "\n",
    "favorite_foods_tuple = tuple(favorite_foods)\n",
    "try:\n",
    "    favorite_foods_tuple[0] = \"Sushi\"\n",
    "except TypeError as e:\n",
    "    print(\"Error:\", e)  # Tuples are immutable, so we cannot change their items.\n"
   ]
  },
  {
   "cell_type": "markdown",
   "metadata": {},
   "source": [
    "Section 6: String Manipulation and Slicing \n",
    "1. Given the string sentence = \"Learning Python is fun!\", write a program to slice and \n",
    "print the word \"Python\" from it. \n",
    "Challenge: Replace the word \"fun\" with \"awesome\" in the sentence and print the new \n",
    "sentence. "
   ]
  },
  {
   "cell_type": "code",
   "execution_count": null,
   "metadata": {},
   "outputs": [],
   "source": [
    "sentence = \"Learning Python is fun!\"\n",
    "print(sentence[9:15])\n",
    "\n",
    "new_sentence = sentence.replace(\"fun\", \"awesome\")\n",
    "print(new_sentence)\n"
   ]
  },
  {
   "cell_type": "markdown",
   "metadata": {},
   "source": [
    "Section 7: Dictionaries \n",
    "1. Create a dictionary called student with the keys name, age, and grade. Assign values \n",
    "to each key and print the dictionary. \n",
    "Challenge: Add a new key city to the dictionary and set it to any city name. Print the \n",
    "updated dictionary."
   ]
  },
  {
   "cell_type": "code",
   "execution_count": null,
   "metadata": {},
   "outputs": [],
   "source": [
    "student = {\"name\": \"Sara\", \"age\": 20, \"grade\": \"A\"}\n",
    "print(student)\n",
    "\n",
    "student[\"city\"] = \"Cairo\"\n",
    "print(student)\n"
   ]
  },
  {
   "cell_type": "markdown",
   "metadata": {},
   "source": [
    "Section8: Basic Arithmetic Operations \n",
    "1. Write a program that takes two numbers from the user and prints their sum, \n",
    "difference, product, and division result. \n",
    "Challenge: Use the modulo operator to check if the first number is divisible by the second \n",
    "number, and print the result as \"Divisible\" or \"Not Divisible\"."
   ]
  },
  {
   "cell_type": "code",
   "execution_count": null,
   "metadata": {},
   "outputs": [],
   "source": [
    "num1 = int(input(\"Enter the first number: \"))\n",
    "num2 = int(input(\"Enter the second number: \"))\n",
    "print(f\"Sum: {num1 + num2}, Difference: {num1 - num2}\")\n",
    "print(f\"Product: {num1 * num2}, Division: {num1 / num2}\")\n",
    "\n",
    "if num1 % num2 == 0:\n",
    "    print(\"Divisible\")\n",
    "else:\n",
    "    print(\"Not Divisible\")\n"
   ]
  }
 ],
 "metadata": {
  "language_info": {
   "name": "python"
  }
 },
 "nbformat": 4,
 "nbformat_minor": 2
}
