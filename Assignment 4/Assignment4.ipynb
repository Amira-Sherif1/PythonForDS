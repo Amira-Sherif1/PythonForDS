{
 "cells": [
  {
   "cell_type": "code",
   "execution_count": 1,
   "metadata": {},
   "outputs": [],
   "source": [
    "import sqlite3\n",
    "\n",
    "# Connect to SQLite database (or create it if it doesn't exist)\n",
    "connection = sqlite3.connect(\"companyDb.db\")\n",
    "cursor = connection.cursor()\n",
    "\n",
    "# Enable foreign key constraints in SQLite\n",
    "cursor.execute(\"PRAGMA foreign_keys = ON;\")\n",
    "\n",
    "# Create Department table\n",
    "cursor.execute(\"\"\"\n",
    "CREATE TABLE IF NOT EXISTS Department (\n",
    "    Dname TEXT NOT NULL,\n",
    "    Dnumber INTEGER PRIMARY KEY,\n",
    "    Mang_ssn INTEGER,\n",
    "    mgr_start DATE,\n",
    "    FOREIGN KEY (Mang_ssn) REFERENCES Employee(SSN) ON DELETE SET NULL\n",
    ");\n",
    "\"\"\")\n",
    "\n",
    "cursor.execute(\"\"\"\n",
    "CREATE TABLE IF NOT EXISTS Employee (\n",
    "    SSN INTEGER PRIMARY KEY,\n",
    "    Fname TEXT NOT NULL,\n",
    "    Lname TEXT NOT NULL,\n",
    "    gender TEXT CHECK(gender IN ('Male', 'Female')),\n",
    "    address TEXT,\n",
    "    salary REAL,\n",
    "    Super_SSN INTEGER,\n",
    "    Dno INTEGER,\n",
    "    FOREIGN KEY (Super_SSN) REFERENCES Employee(SSN) ON DELETE SET NULL,\n",
    "    FOREIGN KEY (Dno) REFERENCES Department(Dnumber) ON DELETE SET NULL\n",
    ");\n",
    "\"\"\")\n",
    "\n",
    "# Insert data into Department table\n",
    "cursor.executemany(\"\"\"\n",
    "INSERT INTO Department (Dname, Dnumber, Mang_ssn, mgr_start) VALUES (?, ?, ?, ?);\n",
    "\"\"\", [\n",
    "    (\"HR\", 1, None, \"2022-01-15\"),\n",
    "    (\"IT\", 2, None, \"2023-05-20\"),\n",
    "    (\"Sales\", 3, None, \"2021-09-10\"),\n",
    "])\n",
    "\n",
    "# Insert data into Employee table\n",
    "cursor.executemany(\"\"\"\n",
    "INSERT INTO Employee (SSN, Fname, Lname, gender, address, salary, Super_SSN, Dno) VALUES (?, ?, ?, ?, ?, ?, ?, ?);\n",
    "\"\"\", [\n",
    "    (101, \"John\", \"Doe\", \"Male\", \"123 Elm St\", 3000, None, 1),\n",
    "    (102, \"Jane\", \"Smith\", \"Female\", \"456 Oak St\", 4500, None, 2),\n",
    "    (103, \"Alice\", \"Johnson\", \"Female\", \"789 Pine St\", 5000, None, 3),\n",
    "    (104, \"Bob\", \"Brown\", \"Male\", \"101 Maple St\", 2500, None, 1),\n",
    "    (105, \"Eve\", \"Davis\", \"Female\", \"202 Birch St\", 6000, None, 2),\n",
    "])\n",
    "\n",
    "# Commit the changes\n",
    "connection.commit()"
   ]
  },
  {
   "cell_type": "markdown",
   "metadata": {},
   "source": [
    "Question: \n",
    "Write a SQL query to retrieve the emp_id, last_name, and salary of employees whose salary is \n",
    "between 2,000 and 5,000 and do not have a manager ID of 101 or 200. \n",
    "Instructions: \n",
    "1. Use the SELECT statement to specify the columns: emp_id, last_name, and salary. \n",
    "2. Filter the results using the WHERE clause with the BETWEEN operator to set the salary range. \n",
    "3. Use the NOT IN clause to exclude certain manager IDs. \n",
    "4. Combine conditions using the AND logical operator. "
   ]
  },
  {
   "cell_type": "code",
   "execution_count": 2,
   "metadata": {},
   "outputs": [
    {
     "name": "stdout",
     "output_type": "stream",
     "text": [
      "[('John', 'Doe', 3000.0), ('Jane', 'Smith', 4500.0), ('Alice', 'Johnson', 5000.0), ('Bob', 'Brown', 2500.0)]\n"
     ]
    }
   ],
   "source": [
    "cursor.execute(\"SELECT Fname, Lname, salary FROM Employee WHERE (salary BETWEEN 2000 AND 5000) or (Super_SSN != 101 AND Super_SSN != 200)\")\n",
    "print(cursor.fetchall())"
   ]
  },
  {
   "cell_type": "markdown",
   "metadata": {},
   "source": [
    "Question: \n",
    "Write a SQL query to display the employee names along with their respective department names. \n",
    "Use aliases for table names for better readability. \n",
    "Instructions: \n",
    "1. Use the SELECT statement to specify the columns: employee.name and department.name. \n",
    "2. Use the FROM clause to include the tables employees and departments. \n",
    "3. Use an INNER JOIN to connect the employees and departments tables based on the \n",
    "department IDs. \n",
    "4. Use table aliases (e.g., e for employees, d for departments) to shorten the table names in the \n",
    "query. \n",
    "5. Order the results by department name in ascending order. "
   ]
  },
  {
   "cell_type": "code",
   "execution_count": null,
   "metadata": {},
   "outputs": [],
   "source": [
    "cursor.execute(\"\"\"\n",
    "SELECT e.Fname , e.Lname AS EmployeeName, d.Dname AS DepartmentName\n",
    "FROM Employee AS e\n",
    "INNER JOIN Department AS d\n",
    "ON e.Dno = d.Dnumber\n",
    "ORDER BY d.Dname ASC;\n",
    "\"\"\")\n",
    "\n",
    "print (cursor.fetchall())"
   ]
  },
  {
   "cell_type": "markdown",
   "metadata": {},
   "source": [
    "Write a SQL query to find the number of employees and the average salary for each department. \n",
    "Ensure that the results are grouped by department ID. \n",
    "Instructions: \n",
    "1. Use the SELECT statement to specify the department ID, the count of employees, and the \n",
    "average salary. \n",
    "2. Use the GROUP BY clause to group the results by department ID. \n",
    "3. Use the COUNT() function to find the number of employees in each department. \n",
    "4. Use the AVG() function to calculate the average salary in each department."
   ]
  },
  {
   "cell_type": "code",
   "execution_count": 5,
   "metadata": {},
   "outputs": [
    {
     "name": "stdout",
     "output_type": "stream",
     "text": [
      "[(1, 2, 2750.0), (2, 2, 5250.0), (3, 1, 5000.0)]\n"
     ]
    }
   ],
   "source": [
    "cursor.execute(\"select d.Dnumber , Count(e.SSN) as 'countofemployees' , avg(e.salary) as 'avgsalary'  from Department d left join Employee e on e.Dno = d.Dnumber group by d.Dnumber  \")\n",
    "\n",
    "print(cursor.fetchall())"
   ]
  }
 ],
 "metadata": {
  "kernelspec": {
   "display_name": "Python 3",
   "language": "python",
   "name": "python3"
  },
  "language_info": {
   "codemirror_mode": {
    "name": "ipython",
    "version": 3
   },
   "file_extension": ".py",
   "mimetype": "text/x-python",
   "name": "python",
   "nbconvert_exporter": "python",
   "pygments_lexer": "ipython3",
   "version": "3.13.0"
  }
 },
 "nbformat": 4,
 "nbformat_minor": 2
}
